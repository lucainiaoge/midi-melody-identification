{
 "cells": [
  {
   "cell_type": "code",
   "execution_count": 1,
   "id": "67613c56-fdef-46b5-a0c1-301667827023",
   "metadata": {},
   "outputs": [],
   "source": [
    "import os\n",
    "import numpy as np\n",
    "import pretty_midi\n",
    "from midi_features import get_track_features\n",
    "from train import parse_melody_channel_txt"
   ]
  },
  {
   "cell_type": "code",
   "execution_count": 2,
   "id": "53752261-37da-40a2-a482-6cf4fed6f90a",
   "metadata": {},
   "outputs": [],
   "source": [
    "def get_dataset(label_txt_path, midi_dir):\n",
    "    all_track_features = None\n",
    "    all_labels = None\n",
    "    filenames, channels = parse_melody_channel_txt(label_txt_path)\n",
    "    for i_file in range(len(filenames)):\n",
    "        midi_path = os.path.join(midi_dir, filenames[i_file])\n",
    "        if not os.path.exists(midi_path):\n",
    "            continue\n",
    "        pretty_midi_features = pretty_midi.PrettyMIDI(midi_path)\n",
    "        num_channels = len(pretty_midi_features.instruments)\n",
    "        labels = np.zeros(num_channels, bool)\n",
    "        labels[channels[i_file]] = True\n",
    "        track_features = get_track_features(pretty_midi_features)\n",
    "        all_labels = labels if all_labels is None else np.concatenate((all_labels, labels), axis=0)\n",
    "        all_track_features = track_features if all_track_features is None else np.concatenate((all_track_features, track_features), axis=0)\n",
    "    return all_track_features, all_labels"
   ]
  },
  {
   "cell_type": "code",
   "execution_count": 3,
   "id": "1c6b36a0-42c4-4dd8-bc36-e383b983d846",
   "metadata": {
    "scrolled": true
   },
   "outputs": [
    {
     "name": "stderr",
     "output_type": "stream",
     "text": [
      "D:\\softwares\\conda\\miniconda3\\envs\\midiaug\\lib\\site-packages\\pretty_midi\\pretty_midi.py:100: RuntimeWarning: Tempo, Key or Time signature change events found on non-zero tracks.  This is not a valid type 0 or type 1 MIDI file.  Tempo, Key or Time Signature may be wrong.\n",
      "  warnings.warn(\n"
     ]
    },
    {
     "name": "stdout",
     "output_type": "stream",
     "text": [
      "(581, 18) (581,)\n"
     ]
    }
   ],
   "source": [
    "label_txt_path = \"melody_channel_ids_new.txt\"\n",
    "midi_dir = os.path.join(\"dataset_cmu_melody\", \"train\")\n",
    "X, y = get_dataset(label_txt_path, midi_dir)\n",
    "print(X.shape, y.shape)"
   ]
  },
  {
   "cell_type": "code",
   "execution_count": 4,
   "id": "29a02ddd-dfc8-49f2-be66-f5d8893f3ce1",
   "metadata": {},
   "outputs": [],
   "source": [
    "from sklearn.preprocessing import StandardScaler\n",
    "\n",
    "from sklearn import svm\n",
    "from sklearn import tree\n",
    "from sklearn.ensemble import RandomForestClassifier\n",
    "from sklearn.ensemble import HistGradientBoostingClassifier\n",
    "from sklearn.ensemble import VotingClassifier\n",
    "from sklearn.pipeline import Pipeline\n",
    "from sklearn.model_selection import cross_val_score\n",
    "\n",
    "normalizer = StandardScaler().fit(X)\n",
    "X_normed = normalizer.transform(X)\n",
    "\n",
    "# feat_mean, feat_std = X.mean(axis = 0), X.std(axis = 0)\n",
    "# X_normed = (X - feat_mean) / feat_std\n",
    "\n",
    "clf0 = svm.SVC().fit(X_normed, y)\n",
    "clf1 = tree.DecisionTreeClassifier().fit(X_normed, y)\n",
    "clf2 = RandomForestClassifier(n_estimators=100, random_state=1).fit(X_normed, y)\n",
    "clf3 = HistGradientBoostingClassifier(max_iter=100).fit(X_normed, y)"
   ]
  },
  {
   "cell_type": "code",
   "execution_count": 5,
   "id": "49289ced-05a7-4d4f-b066-47ffc853aece",
   "metadata": {},
   "outputs": [],
   "source": [
    "eclf = VotingClassifier(\n",
    "    estimators=[('svm', clf1), ('tree', clf1), ('rf', clf2), ('gb', clf3)],\n",
    "    voting='hard'\n",
    ")"
   ]
  },
  {
   "cell_type": "code",
   "execution_count": 6,
   "id": "7cc8652c-d4f6-40bd-8812-24e945c6e6a4",
   "metadata": {},
   "outputs": [
    {
     "name": "stdout",
     "output_type": "stream",
     "text": [
      "Accuracy: 0.93 (+/- 0.01) [SVC]\n",
      "Accuracy: 0.95 (+/- 0.03) [DecisionTree]\n",
      "Accuracy: 0.95 (+/- 0.02) [RandomForest]\n",
      "Accuracy: 0.97 (+/- 0.02) [HistGradientBoosting]\n",
      "Accuracy: 0.96 (+/- 0.03) [Ensemble]\n"
     ]
    }
   ],
   "source": [
    "for clf, label in zip([clf0, clf1, clf2, clf3, eclf], ['SVC', 'DecisionTree', 'RandomForest', 'HistGradientBoosting', 'Ensemble']):\n",
    "    scores = cross_val_score(clf, X_normed, y, scoring='accuracy', cv=5)\n",
    "    print(\"Accuracy: %0.2f (+/- %0.2f) [%s]\" % (scores.mean(), scores.std(), label))"
   ]
  },
  {
   "cell_type": "code",
   "execution_count": 7,
   "id": "b8557fbb-d610-4a16-8945-a58cf2335dcf",
   "metadata": {
    "scrolled": true
   },
   "outputs": [
    {
     "name": "stdout",
     "output_type": "stream",
     "text": [
      "Accuracy: 0.97 (+/- 0.02) [HistGradientBoosting]\n",
      "1.0\n"
     ]
    }
   ],
   "source": [
    "pipeline = Pipeline([\n",
    "    ('normalizer', StandardScaler()), \n",
    "    ('gb_classifier', HistGradientBoostingClassifier(max_iter=100))\n",
    "]).fit(X, y)\n",
    "scores = cross_val_score(pipeline, X, y, scoring='accuracy', cv=5)\n",
    "print(\"Accuracy: %0.2f (+/- %0.2f) [%s]\" % (scores.mean(), scores.std(), 'HistGradientBoosting'))\n",
    "\n",
    "y_pred = pipeline.predict(X)\n",
    "print((y_pred == y).sum() / len(y))"
   ]
  },
  {
   "cell_type": "code",
   "execution_count": null,
   "id": "b671cb0d-045b-40c0-937a-caf13cb3448a",
   "metadata": {},
   "outputs": [],
   "source": [
    "y"
   ]
  }
 ],
 "metadata": {
  "kernelspec": {
   "display_name": "Python 3 (ipykernel)",
   "language": "python",
   "name": "python3"
  },
  "language_info": {
   "codemirror_mode": {
    "name": "ipython",
    "version": 3
   },
   "file_extension": ".py",
   "mimetype": "text/x-python",
   "name": "python",
   "nbconvert_exporter": "python",
   "pygments_lexer": "ipython3",
   "version": "3.9.20"
  }
 },
 "nbformat": 4,
 "nbformat_minor": 5
}
